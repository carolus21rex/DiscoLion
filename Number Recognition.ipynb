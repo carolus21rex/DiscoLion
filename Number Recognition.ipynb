{
 "cells": [
  {
   "cell_type": "code",
   "execution_count": 34,
   "metadata": {},
   "outputs": [],
   "source": [
    "# Import Libraries\n",
    "import random                   # Randomization\n",
    "#from gtts import gTTS          # Text to speech\n",
    "#import os                      # Load/Save Files\n",
    "#import io                      # IO\n",
    "import pygame                   # Game utilities including playing sound from files\n",
    "import pyttsx3                  # text to speech"
   ]
  },
  {
   "cell_type": "code",
   "execution_count": 35,
   "metadata": {},
   "outputs": [],
   "source": [
    "import random\n",
    "\n",
    "def setup_target_number_and_list():\n",
    "    \"\"\"\n",
    "    Set up a random number and a CSV string of 4 random numbers, including the correct number.\n",
    "    \n",
    "    Returns:\n",
    "        random_number (int): The generated random number.\n",
    "        options_csv (str): A CSV string of 4 random numbers, including the correct number.\n",
    "    \"\"\"\n",
    "    # Generate a random number between 0 and 9\n",
    "    target_number = random.randint(0, 9)\n",
    "\n",
    "    # Generate a list of 4 random numbers, including the correct number\n",
    "    options = [target_number]\n",
    "    while len(options) < 4:\n",
    "        random_option = random.randint(0, 9)\n",
    "        if random_option not in options:\n",
    "            options.append(random_option)\n",
    "\n",
    "    # Shuffle the options so the correct answer isn't always in the same position\n",
    "    random.shuffle(options)\n",
    "\n",
    "    # Convert the list of options to a CSV string\n",
    "    options_csv = \",\".join(map(str, options))\n",
    "\n",
    "    return target_number, options_csv\n",
    "\n",
    "# Example usage:\n",
    "# random_number, options_csv = setup_target_number_and_list()\n",
    "# number_text = str(random_number)  # You can convert the random_number to text here\n"
   ]
  },
  {
   "cell_type": "code",
   "execution_count": 36,
   "metadata": {},
   "outputs": [],
   "source": [
    "import pyttsx3\n",
    "\n",
    "def announce_number(number_text):\n",
    "    \"\"\"\n",
    "    Announces a number with text-to-speech.\n",
    "\n",
    "    Args:\n",
    "        number_text (str): The number to announce.\n",
    "    \"\"\"\n",
    "    # Initialize the text-to-speech engine\n",
    "    engine = pyttsx3.init()\n",
    "\n",
    "    # Create a text-to-speech announcement for the number\n",
    "    announcement_text = f\"Pick number {number_text} to stop Gigi!\"\n",
    "\n",
    "    # Announce the number\n",
    "    engine.say(announcement_text)\n",
    "\n",
    "    # Play the announcement\n",
    "    engine.runAndWait()\n",
    "\n",
    "# Example usage:\n",
    "# announce_number(\"5\")"
   ]
  },
  {
   "cell_type": "code",
   "execution_count": 37,
   "metadata": {},
   "outputs": [],
   "source": [
    "def display_pick_options(options_csv):\n",
    "    \"\"\"\n",
    "    Display the pick options to the user.\n",
    "\n",
    "    Args:\n",
    "        options_csv (str): A CSV string containing the options to display.\n",
    "    \"\"\"\n",
    "    options = options_csv.split(\",\")  # Split the CSV string into a list of options\n",
    "    for i, option in enumerate(options):\n",
    "        print(f\"{i + 1}: {option}\")\n",
    "\n",
    "# Example usage:\n",
    "# options_csv = \"6,5,1,2\"  # Replace with your CSV string of options\n",
    "# display_pick_options(options_csv)\n"
   ]
  },
  {
   "cell_type": "code",
   "execution_count": 38,
   "metadata": {},
   "outputs": [],
   "source": [
    "import pyttsx3\n",
    "\n",
    "def get_user_input(options_csv, random_number):\n",
    "    \"\"\"\n",
    "    Get user input and repeatedly prompt until valid input is provided.\n",
    "\n",
    "    Args:\n",
    "        options_csv (str): A CSV string containing the options.\n",
    "        random_number (int): The correct random number.\n",
    "\n",
    "    Returns:\n",
    "        bool: True if the user guessed correctly, False otherwise.\n",
    "    \"\"\"\n",
    "    # Initialize the text-to-speech engine\n",
    "    engine = pyttsx3.init()\n",
    "\n",
    "    # Split the CSV string into a list of options\n",
    "    options = options_csv.split(\",\")\n",
    "\n",
    "    # Get user input and repeatedly prompt until valid input is provided\n",
    "    while True:\n",
    "        try:\n",
    "            user_guess = int(input())\n",
    "            if 1 <= user_guess <= len(options):\n",
    "                picked_number = int(options[user_guess - 1])\n",
    "                if picked_number == random_number:\n",
    "                    engine.say(\"Yay, you got it! Roar!\")\n",
    "                else:\n",
    "                    engine.say(f\"Oops! The number you picked was {picked_number}.\")\n",
    "                engine.runAndWait()\n",
    "                return picked_number == random_number  # True if correct, False otherwise\n",
    "            else:\n",
    "                print(\"Invalid input. Looping.\")\n",
    "        except ValueError:\n",
    "            print(\"Invalid input. Please enter a valid number.\")\n",
    "\n",
    "# Example usage:\n",
    "# options_csv = \"6,5,1,2\"  # Replace with your CSV string of options\n",
    "# random_number = 1  # Replace with the correct random number\n",
    "# result = get_user_input(options_csv, random_number)\n"
   ]
  },
  {
   "cell_type": "code",
   "execution_count": 39,
   "metadata": {},
   "outputs": [],
   "source": [
    "import random\n",
    "import pyttsx3\n",
    "\n",
    "def Gigi_Attack_Number_Recognition():\n",
    "    \"\"\"\n",
    "    Gigi Attack - Number Recognition game.\n",
    "    \"\"\"\n",
    "    # Set up target number and options list\n",
    "    target_number, options_csv = setup_target_number_and_list()\n",
    "\n",
    "    # Announce Target Number\n",
    "    announce_number(target_number)\n",
    "\n",
    "    # Display Pick Options\n",
    "    display_pick_options(options_csv)\n",
    "\n",
    "    # Get play input\n",
    "    win = get_user_input(options_csv, target_number)\n",
    "\n",
    "    # Return\n",
    "    return win\n",
    "\n",
    "# Example usage:\n",
    "# if __name__ == \"__main__\":\n",
    "#     result = Gigi_Attack_Number_Recognition()\n"
   ]
  },
  {
   "cell_type": "code",
   "execution_count": 40,
   "metadata": {},
   "outputs": [
    {
     "name": "stdout",
     "output_type": "stream",
     "text": [
      "1: 3\n",
      "2: 1\n",
      "3: 4\n",
      "4: 7\n",
      "True\n"
     ]
    }
   ],
   "source": [
    "win = Gigi_Attack_Number_Recognition()\n",
    "print(win)"
   ]
  }
 ],
 "metadata": {
  "kernelspec": {
   "display_name": "Hackathon",
   "language": "python",
   "name": "python3"
  },
  "language_info": {
   "codemirror_mode": {
    "name": "ipython",
    "version": 3
   },
   "file_extension": ".py",
   "mimetype": "text/x-python",
   "name": "python",
   "nbconvert_exporter": "python",
   "pygments_lexer": "ipython3",
   "version": "3.10.13"
  }
 },
 "nbformat": 4,
 "nbformat_minor": 2
}
